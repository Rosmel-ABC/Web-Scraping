{
  "cells": [
    {
      "cell_type": "code",
      "execution_count": null,
      "id": "57b679d5",
      "metadata": {
        "id": "57b679d5"
      },
      "outputs": [],
      "source": [
        "# importamos las librerias necesarias\n",
        "\n",
        "from selenium import webdriver\n",
        "from bs4 import BeautifulSoup\n",
        "from selenium.webdriver.common.by import By\n",
        "import pandas as pd"
      ]
    },
    {
      "cell_type": "code",
      "execution_count": null,
      "id": "753c6023",
      "metadata": {
        "id": "753c6023"
      },
      "outputs": [],
      "source": []
    },
    {
      "cell_type": "code",
      "execution_count": null,
      "id": "8d97c97c",
      "metadata": {
        "id": "8d97c97c"
      },
      "outputs": [],
      "source": [
        "# esta direccion lo obtenemos del nombre del producto y damos inspeccionar y copiar la ruta XPath completo    \n",
        "\n",
        "url = \"//html/body/div[1]/div/div[2]/div[2]/section[2]/div/div[3]/div[1]/div/div[2]/a/span[1]\"\n"
      ]
    },
    {
      "cell_type": "markdown",
      "id": "ea48b636",
      "metadata": {
        "id": "ea48b636"
      },
      "source": [
        "### Código reducido para acceder a un solo valor "
      ]
    },
    {
      "cell_type": "code",
      "execution_count": null,
      "id": "7432aa65",
      "metadata": {
        "id": "7432aa65"
      },
      "outputs": [],
      "source": [
        "# #accedemos al DRIVER\n",
        "# driver = webdriver.Chrome(\"C:/Users/Usuario/Downloads/chromedriver_win32/chromedriver.exe\")\n",
        "# #le pasamos la url de la pagina a scrapear\n",
        "# driver.get(\"https://www.falabella.com.pe/falabella-pe/category/cat40712/Laptops\")\n",
        "# x_path = \"//html/body/div[1]/div/div[2]/div[2]/section[2]/div/div[3]/div[2]/div/div[2]/a/span[1]\"\n",
        "\n",
        "# driver.find_elements(By.XPATH, value = x_path)[0].text"
      ]
    },
    {
      "cell_type": "markdown",
      "id": "988f204e",
      "metadata": {
        "id": "988f204e"
      },
      "source": [
        "### Iteramos para extraer mas valores"
      ]
    },
    {
      "cell_type": "code",
      "execution_count": null,
      "id": "3fb16a8c",
      "metadata": {
        "id": "3fb16a8c"
      },
      "outputs": [],
      "source": [
        "# accedemos al DRIVER\n",
        "driver = webdriver.Chrome(\"C:/Users/Usuario/Downloads/chromedriver_win32/chromedriver.exe\")\n",
        "\n",
        "#le pasamos la url de la pagina a scrapear\n",
        "driver.get(\"https://www.falabella.com.pe/falabella-pe/category/cat40712/Laptops\") \n",
        "\n",
        "\n",
        "nombres_productos = []\n",
        "\n",
        "# Extraccion de nombres\n",
        "#iteramos para poder extraer mas datos, en este caso los 4 primeros productos\n",
        "for i in range(1,10):  \n",
        "    \n",
        "    #esta direccion lo obtenemos de ponernos sobre el nombre del articulo y inspeccionamos los elementos\n",
        "    x_path = \"//html/body/div[1]/div/div[2]/div[2]/section[2]/div/div[3]/div[{}]/div/div[2]/a/span[1]\".format(i)\n",
        "    #x_path = \"//html/body/div[1]/div/div[2]/div[2]/section[2]/div/div[3]/div[2]/div/div[2]/a/span[1]\"\n",
        "    nombres_productos.append(driver.find_elements(By.XPATH, value = x_path)[0].text)   #esto es una lista \n"
      ]
    },
    {
      "cell_type": "code",
      "execution_count": null,
      "id": "04723eba",
      "metadata": {
        "id": "04723eba",
        "outputId": "b5059e81-f3d4-4ff9-d8bc-69827d54a7f7"
      },
      "outputs": [
        {
          "data": {
            "text/plain": [
              "['Laptop Gamer LENOVO Ideapad...',\n",
              " 'Laptop Gamer ACER Nitro Intel Core i5...',\n",
              " 'Laptop Lenovo IdeaPad 3i Intel...',\n",
              " 'Laptop ASUS Ryzen 5 Series 7520U 8...',\n",
              " 'Laptop HP Pavilion Intel Core i5 12°...',\n",
              " 'Laptop Gamer ASUS TUF Intel Core i5...',\n",
              " 'Laptop Gamer LENOVO Ideapad...',\n",
              " 'Laptop Gamer LENOVO Ideapad...',\n",
              " 'Laptop HP OPP AMD Ryzen 5...']"
            ]
          },
          "execution_count": 235,
          "metadata": {},
          "output_type": "execute_result"
        }
      ],
      "source": [
        "nombres_productos"
      ]
    },
    {
      "cell_type": "code",
      "execution_count": null,
      "id": "5ed91e90",
      "metadata": {
        "id": "5ed91e90",
        "outputId": "32610d94-3fb5-4560-844b-d64e80932d2d"
      },
      "outputs": [
        {
          "data": {
            "text/plain": [
              "9"
            ]
          },
          "execution_count": 238,
          "metadata": {},
          "output_type": "execute_result"
        }
      ],
      "source": [
        "len(nombres_productos)"
      ]
    },
    {
      "cell_type": "markdown",
      "id": "f7bc4812",
      "metadata": {
        "id": "f7bc4812"
      },
      "source": [
        "\n",
        "\n",
        "### CODIGO PARA EXTRAER LOS PRECIOS CON DESCUENTO DE LOS PRODUCTOS"
      ]
    },
    {
      "cell_type": "code",
      "execution_count": null,
      "id": "d9a84acc",
      "metadata": {
        "id": "d9a84acc"
      },
      "outputs": [],
      "source": [
        "# #accedemos al DRIVER\n",
        "# driver = webdriver.Chrome(\"C:/Users/Usuario/Downloads/chromedriver_win32/chromedriver.exe\")\n",
        "# #le pasamos la url de la pagina a scrapear\n",
        "# driver.get(\"https://www.falabella.com.pe/falabella-pe/category/cat40712/Laptops\")\n",
        "# x_path = \"//html/body/div[1]/div/div[2]/div[2]/section[2]/div/div[3]/div[1]/div/a/div[1]/ol/li[1]/div/span\"\n",
        "#            #/html/body/div[1]/div/div[2]/div[2]/section[2]/div/div[3]/div[3]/div/a/div[1]/ol/li[1]/div/span\n",
        "\n",
        "# driver.find_elements(By.XPATH, value = x_path)[0].text"
      ]
    },
    {
      "cell_type": "code",
      "execution_count": null,
      "id": "c7d3de77",
      "metadata": {
        "id": "c7d3de77"
      },
      "outputs": [],
      "source": [
        "# accedemos al DRIVER\n",
        "driver = webdriver.Chrome(\"C:/Users/Usuario/Downloads/chromedriver_win32/chromedriver.exe\")\n",
        "\n",
        "#le pasamos la url de la pagina a scrapear\n",
        "driver.get(\"https://www.falabella.com.pe/falabella-pe/category/cat40712/Laptops\") \n",
        "            \n",
        "\n",
        "precios_productos_descuento = []\n",
        "\n",
        "# Extraccion de Precios\n",
        "#iteramos para poder extraer mas datos, en este caso los 10 primeros productos\n",
        "for i in range(1,10):  \n",
        "\n",
        "    try:\n",
        "    #esta direccion lo obtenemos de ponernos sobre el nombre del articulo y inspeccionamos los elementos\n",
        "        #x_path = \"//html/body/div[1]/div/div[2]/div[2]/section[2]/div/div[3]/div[{}]/div/a/div[1]/ol/li[3]/div/span\".format(i)        \n",
        "        #precios_productos_descuento.append(driver.find_elements(By.XPATH, value = x_path)[0].text)   #esto es una lista \n",
        "        \n",
        "        x_path = \"//html/body/div[1]/div/div[2]/div[2]/section[2]/div/div[3]/div[{}]/div/a/div[1]/ol/li[1]/div/span\".format(i)           \n",
        "        precios_productos_descuento.append(driver.find_elements(By.XPATH, value = x_path)[0].text)   #esto es una lista \n",
        "\n",
        "    except:\n",
        "        precios_productos_descuento.append(\"-\") # parece que l apaginanormal pone el precio"
      ]
    },
    {
      "cell_type": "code",
      "execution_count": null,
      "id": "52d44286",
      "metadata": {
        "id": "52d44286",
        "outputId": "4baea390-4e0f-40fe-ffed-d0b535d2a746"
      },
      "outputs": [
        {
          "data": {
            "text/plain": [
              "['S/ 2,699',\n",
              " 'S/ 4,199',\n",
              " 'S/ 1,499',\n",
              " 'S/ 1,899',\n",
              " 'S/ 3,199',\n",
              " 'S/ 3,799',\n",
              " 'S/ 4,499',\n",
              " 'S/ 4,899',\n",
              " 'S/ 1,899']"
            ]
          },
          "execution_count": 240,
          "metadata": {},
          "output_type": "execute_result"
        }
      ],
      "source": [
        "precios_productos_descuento"
      ]
    },
    {
      "cell_type": "code",
      "execution_count": null,
      "id": "e6045853",
      "metadata": {
        "id": "e6045853",
        "outputId": "05ad6dd5-dcfe-4a64-d5e5-9ef42e23b444"
      },
      "outputs": [
        {
          "data": {
            "text/plain": [
              "9"
            ]
          },
          "execution_count": 241,
          "metadata": {},
          "output_type": "execute_result"
        }
      ],
      "source": [
        "len(precios_productos_descuento)"
      ]
    },
    {
      "cell_type": "markdown",
      "id": "7716c46c",
      "metadata": {
        "id": "7716c46c"
      },
      "source": [
        "### CODIGO PARA EXTRAER LOS PRECIOS  DE LOS PRODUCTOS"
      ]
    },
    {
      "cell_type": "code",
      "execution_count": null,
      "id": "6d71844f",
      "metadata": {
        "id": "6d71844f"
      },
      "outputs": [],
      "source": [
        "# accedemos al DRIVER\n",
        "driver = webdriver.Chrome(\"C:/Users/Usuario/Downloads/chromedriver_win32/chromedriver.exe\")\n",
        "\n",
        "#le pasamos la url de la pagina a scrapear\n",
        "driver.get(\"https://www.falabella.com.pe/falabella-pe/category/cat40712/Laptops\") \n",
        "\n",
        "\n",
        "precios_productos = []\n",
        "\n",
        "# Extraccion de Precios\n",
        "#iteramos para poder extraer mas datos, en este caso los 10 primeros productos\n",
        "for i in range(1,10):  \n",
        "    \n",
        "    try : #esta direccion lo obtenemos de ponernos sobre el nombre del articulo y inspeccionamos los elementos\n",
        "        x_path = \"//html/body/div[1]/div/div[2]/div[2]/section[2]/div/div[3]/div[{}]/div/a/div[1]/ol/li[2]/div/span\".format(i)        \n",
        "        precios_productos.append(driver.find_elements(By.XPATH, value = x_path)[0].text)   #esto es una lista \n",
        "    except:\n",
        "        precios_productos.append(\"-\")"
      ]
    },
    {
      "cell_type": "code",
      "execution_count": null,
      "id": "41811f38",
      "metadata": {
        "id": "41811f38",
        "outputId": "5d3b1e6a-13db-437f-aa38-1a2988524cce"
      },
      "outputs": [
        {
          "data": {
            "text/plain": [
              "['S/ 2,799',\n",
              " 'S/ 4,899',\n",
              " 'S/ 2,599',\n",
              " 'S/ 1,999',\n",
              " 'S/ 5,199',\n",
              " 'S/ 3,899',\n",
              " 'S/ 4,599',\n",
              " 'S/ 6,499',\n",
              " 'S/ 1,999']"
            ]
          },
          "execution_count": 243,
          "metadata": {},
          "output_type": "execute_result"
        }
      ],
      "source": [
        "precios_productos"
      ]
    },
    {
      "cell_type": "markdown",
      "id": "c444089f",
      "metadata": {
        "id": "c444089f"
      },
      "source": [
        "# precio 3"
      ]
    },
    {
      "cell_type": "code",
      "execution_count": null,
      "id": "9e9b1c3e",
      "metadata": {
        "id": "9e9b1c3e"
      },
      "outputs": [],
      "source": [
        "# accedemos al DRIVER\n",
        "driver = webdriver.Chrome(\"C:/Users/Usuario/Downloads/chromedriver_win32/chromedriver.exe\")\n",
        "\n",
        "#le pasamos la url de la pagina a scrapear\n",
        "driver.get(\"https://www.falabella.com.pe/falabella-pe/category/cat40712/Laptops\") \n",
        "\n",
        "\n",
        "precios_3 = []\n",
        "\n",
        "# Extraccion de Precios\n",
        "#iteramos para poder extraer mas datos, en este caso los 10 primeros productos\n",
        "for i in range(1,10):  \n",
        "    \n",
        "    try : #esta direccion lo obtenemos de ponernos sobre el nombre del articulo y inspeccionamos los elementos\n",
        "        x_path = \"//html/body/div[1]/div/div[2]/div[2]/section[2]/div/div[3]/div[{}]/div/a/div[1]/ol/li[3]/div/span\".format(i)        \n",
        "        precios_3.append(driver.find_elements(By.XPATH, value = x_path)[0].text)   #esto es una lista \n",
        "    except:\n",
        "        precios_3.append(\"-\")"
      ]
    },
    {
      "cell_type": "code",
      "execution_count": null,
      "id": "89c3d3b6",
      "metadata": {
        "id": "89c3d3b6",
        "outputId": "afe9dd2e-a973-48a5-cf89-c526b061460d"
      },
      "outputs": [
        {
          "data": {
            "text/plain": [
              "['S/ 3,399',\n",
              " '-',\n",
              " '-',\n",
              " 'S/ 2,899',\n",
              " '-',\n",
              " 'S/ 4,699',\n",
              " 'S/ 6,899',\n",
              " '-',\n",
              " 'S/ 2,799']"
            ]
          },
          "execution_count": 245,
          "metadata": {},
          "output_type": "execute_result"
        }
      ],
      "source": [
        "precios_3"
      ]
    },
    {
      "cell_type": "code",
      "execution_count": null,
      "id": "03098d45",
      "metadata": {
        "id": "03098d45",
        "outputId": "1f79157b-4d55-40f8-f70a-e0f1e6a606a3"
      },
      "outputs": [
        {
          "data": {
            "text/plain": [
              "9"
            ]
          },
          "execution_count": 246,
          "metadata": {},
          "output_type": "execute_result"
        }
      ],
      "source": [
        "len(precios_3)"
      ]
    },
    {
      "cell_type": "markdown",
      "id": "441bec87",
      "metadata": {
        "id": "441bec87"
      },
      "source": [
        "## Hacer click next page"
      ]
    },
    {
      "cell_type": "code",
      "execution_count": null,
      "id": "cf5fcf25",
      "metadata": {
        "id": "cf5fcf25"
      },
      "outputs": [],
      "source": [
        "#accedemos al DRIVER\n",
        "driver = webdriver.Chrome(\"C:/Users/Usuario/Downloads/chromedriver_win32/chromedriver.exe\")\n",
        "#le pasamos la url de la pagina a scrapear\n",
        "driver.get(\"https://www.falabella.com.pe/falabella-pe/category/cat40712/Laptops\")\n",
        "\n",
        "x_path = \"//html/body/div[1]/div/div[2]/div[2]/section[2]/div/div[4]/div[2]/div/button\"\n",
        "driver.find_elements(By.XPATH, value = x_path)[0].click()\n",
        "\n"
      ]
    },
    {
      "cell_type": "markdown",
      "id": "a636e911",
      "metadata": {
        "id": "a636e911"
      },
      "source": [
        "# CÓDIGO PARA WEBSCRAPING DE LAPTOS EN LA PAGINA DE FALABELLA"
      ]
    },
    {
      "cell_type": "code",
      "execution_count": null,
      "id": "ac91d378",
      "metadata": {
        "id": "ac91d378"
      },
      "outputs": [],
      "source": [
        "# accedemos al DRIVER\n",
        "driver = webdriver.Chrome(\"C:/Users/Usuario/Downloads/chromedriver_win32/chromedriver.exe\")\n",
        "\n",
        "#le pasamos la url de la pagina a scrapear\n",
        "driver.get(\"https://www.falabella.com.pe/falabella-pe/category/cat40712/Laptops\") \n",
        "\n",
        "\n",
        "nombres_productos = []\n",
        "precios_productos = []\n",
        "precios_productos_descuento = []\n",
        "precios_3 = []\n",
        "\n",
        "contador = 0\n",
        "\n",
        "\n",
        "while contador <5:\n",
        "    for i in range(1,30):  \n",
        "            #1\n",
        "            #esta direccion lo obtenemos de ponernos sobre el nombre del articulo y inspeccionamos los elementos\n",
        "            x_path = \"//html/body/div[1]/div/div[2]/div[2]/section[2]/div/div[3]/div[{}]/div/div[2]/a/span[1]\".format(i)\n",
        "            #x_path = \"//html/body/div[1]/div/div[2]/div[2]/section[2]/div/div[3]/div[2]/div/div[2]/a/span[1]\"\n",
        "            nombres_productos.append(driver.find_elements(By.XPATH, value = x_path)[0].text)   #esto es una lista \n",
        "\n",
        "            #2----------------------------------------------------------\n",
        "            try:\n",
        "            #esta direccion lo obtenemos de ponernos sobre el nombre del articulo y inspeccionamos los elementos\n",
        "                #x_path = \"//html/body/div[1]/div/div[2]/div[2]/section[2]/div/div[3]/div[{}]/div/a/div[1]/ol/li[3]/div/span\".format(i)        \n",
        "                #precios_productos_descuento.append(driver.find_elements(By.XPATH, value = x_path)[0].text)   #esto es una lista \n",
        "\n",
        "                x_path = \"//html/body/div[1]/div/div[2]/div[2]/section[2]/div/div[3]/div[{}]/div/a/div[1]/ol/li[1]/div/span\".format(i)           \n",
        "                precios_productos_descuento.append(driver.find_elements(By.XPATH, value = x_path)[0].text)   #esto es una lista \n",
        "\n",
        "            except:\n",
        "                precios_productos_descuento.append(\"-\") # parece que l apaginanormal pone el precio\n",
        "            #3 --------------------------------------------------------------\n",
        "            try : #esta direccion lo obtenemos de ponernos sobre el nombre del articulo y inspeccionamos los elementos 2, 1----\n",
        "                x_path = \"//html/body/div[1]/div/div[2]/div[2]/section[2]/div/div[3]/div[{}]/div/a/div[1]/ol/li[1]/div/span\".format(i) \n",
        "                           \n",
        "                precios_productos.append(driver.find_elements(By.XPATH, value = x_path)[0].text)   #esto es una lista \n",
        "            except:\n",
        "                precios_productos.append(\"-\")\n",
        "\n",
        "\n",
        "            #4 ----------------------------------------------------------\n",
        "            try : #esta direccion lo obtenemos de ponernos sobre el nombre del articulo y inspeccionamos los elementos\n",
        "                x_path = \"//html/body/div[1]/div/div[2]/div[2]/section[2]/div/div[3]/div[{}]/div/a/div[1]/ol/li[3]/div/span\".format(i)        \n",
        "                precios_3.append(driver.find_elements(By.XPATH, value = x_path)[0].text)   #esto es una lista \n",
        "            except:\n",
        "                precios_3.append(\"-\")\n",
        "                \n",
        "    x_path = \"//html/body/div[1]/div/div[2]/div[2]/section[2]/div/div[1]/div/div[2]/div/div/button\"\n",
        "               \n",
        "    driver.find_elements(By.XPATH, value = x_path)[0].click()\n",
        "    contador = contador + 1\n"
      ]
    },
    {
      "cell_type": "markdown",
      "id": "0e77cffd",
      "metadata": {
        "id": "0e77cffd"
      },
      "source": [
        "## CREAMOS DATAFRAME CON LAS LISTAS CREADAS DE PRODUCTO Y PRECIO"
      ]
    },
    {
      "cell_type": "code",
      "execution_count": null,
      "id": "0ca42d4e",
      "metadata": {
        "id": "0ca42d4e"
      },
      "outputs": [],
      "source": [
        "import numpy as np\n",
        "\n",
        "data = pd.DataFrame(nombres_productos , columns = [\"Productos\"])\n",
        "data[\"Precio con descuento\"] = precios_productos_descuento\n",
        "data[\"Precio\"] = precios_productos\n",
        "data[\"Precio Anterior\"] = precios_3"
      ]
    },
    {
      "cell_type": "code",
      "execution_count": null,
      "id": "9cc8c58a",
      "metadata": {
        "id": "9cc8c58a",
        "outputId": "68e40f73-27bc-4239-cb8e-16a7ec51fd05"
      },
      "outputs": [
        {
          "data": {
            "text/html": [
              "<div>\n",
              "<style scoped>\n",
              "    .dataframe tbody tr th:only-of-type {\n",
              "        vertical-align: middle;\n",
              "    }\n",
              "\n",
              "    .dataframe tbody tr th {\n",
              "        vertical-align: top;\n",
              "    }\n",
              "\n",
              "    .dataframe thead th {\n",
              "        text-align: right;\n",
              "    }\n",
              "</style>\n",
              "<table border=\"1\" class=\"dataframe\">\n",
              "  <thead>\n",
              "    <tr style=\"text-align: right;\">\n",
              "      <th></th>\n",
              "      <th>Productos</th>\n",
              "      <th>Precio con descuento</th>\n",
              "      <th>Precio</th>\n",
              "      <th>Precio Anterior</th>\n",
              "    </tr>\n",
              "  </thead>\n",
              "  <tbody>\n",
              "    <tr>\n",
              "      <th>0</th>\n",
              "      <td>Laptop Lenovo IdeaPad 3i Intel...</td>\n",
              "      <td>S/ 1,499</td>\n",
              "      <td>S/ 1,499</td>\n",
              "      <td>-</td>\n",
              "    </tr>\n",
              "    <tr>\n",
              "      <th>1</th>\n",
              "      <td>Laptop ASUS Ryzen 5 Series 7520U 8...</td>\n",
              "      <td>S/ 1,899</td>\n",
              "      <td>S/ 1,899</td>\n",
              "      <td>S/ 2,899</td>\n",
              "    </tr>\n",
              "    <tr>\n",
              "      <th>2</th>\n",
              "      <td>Laptop HP Pavilion Intel Core i5 12°...</td>\n",
              "      <td>S/ 2,699</td>\n",
              "      <td>S/ 2,699</td>\n",
              "      <td>S/ 3,399</td>\n",
              "    </tr>\n",
              "    <tr>\n",
              "      <th>3</th>\n",
              "      <td>Laptop HP 15-dy5000la, Intel...</td>\n",
              "      <td>S/ 2,299</td>\n",
              "      <td>S/ 2,299</td>\n",
              "      <td>-</td>\n",
              "    </tr>\n",
              "    <tr>\n",
              "      <th>4</th>\n",
              "      <td>Laptop Gamer LENOVO Ideapad...</td>\n",
              "      <td>S/ 3,199</td>\n",
              "      <td>S/ 3,199</td>\n",
              "      <td>-</td>\n",
              "    </tr>\n",
              "    <tr>\n",
              "      <th>...</th>\n",
              "      <td>...</td>\n",
              "      <td>...</td>\n",
              "      <td>...</td>\n",
              "      <td>...</td>\n",
              "    </tr>\n",
              "    <tr>\n",
              "      <th>140</th>\n",
              "      <td>Laptop HP 15.6\" Ryzen 5 5500U,...</td>\n",
              "      <td>S/ 1,869</td>\n",
              "      <td>S/ 1,869</td>\n",
              "      <td>-</td>\n",
              "    </tr>\n",
              "    <tr>\n",
              "      <th>141</th>\n",
              "      <td>Laptop ASUS Intel Core i5 10° Gen...</td>\n",
              "      <td>S/ 2,699</td>\n",
              "      <td>S/ 2,699</td>\n",
              "      <td>-</td>\n",
              "    </tr>\n",
              "    <tr>\n",
              "      <th>142</th>\n",
              "      <td>Laptop Gamer HP Victus Intel Core i5...</td>\n",
              "      <td>S/ 2,799</td>\n",
              "      <td>S/ 2,799</td>\n",
              "      <td>-</td>\n",
              "    </tr>\n",
              "    <tr>\n",
              "      <th>143</th>\n",
              "      <td>Laptop DELL Vostro 14\" AMD Ryzen 5...</td>\n",
              "      <td>S/ 1,829</td>\n",
              "      <td>S/ 1,829</td>\n",
              "      <td>-</td>\n",
              "    </tr>\n",
              "    <tr>\n",
              "      <th>144</th>\n",
              "      <td>Laptop Gamer ASUS TUF Intel Core i5...</td>\n",
              "      <td>S/ 4,199</td>\n",
              "      <td>S/ 4,199</td>\n",
              "      <td>-</td>\n",
              "    </tr>\n",
              "  </tbody>\n",
              "</table>\n",
              "<p>145 rows × 4 columns</p>\n",
              "</div>"
            ],
            "text/plain": [
              "                                   Productos Precio con descuento    Precio  \\\n",
              "0          Laptop Lenovo IdeaPad 3i Intel...             S/ 1,499  S/ 1,499   \n",
              "1      Laptop ASUS Ryzen 5 Series 7520U 8...             S/ 1,899  S/ 1,899   \n",
              "2    Laptop HP Pavilion Intel Core i5 12°...             S/ 2,699  S/ 2,699   \n",
              "3            Laptop HP 15-dy5000la, Intel...             S/ 2,299  S/ 2,299   \n",
              "4             Laptop Gamer LENOVO Ideapad...             S/ 3,199  S/ 3,199   \n",
              "..                                       ...                  ...       ...   \n",
              "140        Laptop HP 15.6\" Ryzen 5 5500U,...             S/ 1,869  S/ 1,869   \n",
              "141     Laptop ASUS Intel Core i5 10° Gen...             S/ 2,699  S/ 2,699   \n",
              "142  Laptop Gamer HP Victus Intel Core i5...             S/ 2,799  S/ 2,799   \n",
              "143    Laptop DELL Vostro 14\" AMD Ryzen 5...             S/ 1,829  S/ 1,829   \n",
              "144   Laptop Gamer ASUS TUF Intel Core i5...             S/ 4,199  S/ 4,199   \n",
              "\n",
              "    Precio Anterior  \n",
              "0                 -  \n",
              "1          S/ 2,899  \n",
              "2          S/ 3,399  \n",
              "3                 -  \n",
              "4                 -  \n",
              "..              ...  \n",
              "140               -  \n",
              "141               -  \n",
              "142               -  \n",
              "143               -  \n",
              "144               -  \n",
              "\n",
              "[145 rows x 4 columns]"
            ]
          },
          "execution_count": 258,
          "metadata": {},
          "output_type": "execute_result"
        }
      ],
      "source": [
        "data"
      ]
    },
    {
      "cell_type": "code",
      "execution_count": null,
      "id": "b5a20406",
      "metadata": {
        "id": "b5a20406",
        "outputId": "c80c07f1-9e4f-4b60-c92c-85657ee65659"
      },
      "outputs": [
        {
          "data": {
            "text/plain": [
              "Laptop ASUS Vivobook Intel...                9\n",
              "Laptop Gamer ASUS TUF Intel Core i7...       7\n",
              "Macbook Air 13 pulgadas - Chip M1...         6\n",
              "Laptop Gamer LENOVO Ideapad...               6\n",
              "Laptop HP 15-dy5000la, Intel...              5\n",
              "Laptop HP Pavilion Intel Core i5 12°...      5\n",
              "Laptop Gamer ASUS TUF Intel Core i5...       5\n",
              "Laptop DELL Vostro 14\" AMD Ryzen 5...        5\n",
              "Laptop Gamer HP Victus Intel Core i5...      5\n",
              "Laptop Gamer ACER Nitro Intel Core i5...     4\n",
              "Laptop ASUS Ryzen 5 Series 7520U 8...        4\n",
              "Laptop Lenovo V15 ADA 15.6'' AMD...          3\n",
              "Laptop Gamer Asus TUF...                     3\n",
              "Laptop AMD Ryzen 5 7520U 8Gb...              3\n",
              "Laptop HP AMD Ryzen 7 Serie 5000...          3\n",
              "Laptop ASUS Zenbook Intel...                 3\n",
              "Notebook Acer Swift 3 Ryzen 7...             3\n",
              "Laptop Ideapad 5 Pro Amd Ryzen 7...          3\n",
              "Laptop HP 15.6\" Ryzen 5 5500U,...            3\n",
              "Laptop ASUS Intel Core i5 10° Gen...         3\n",
              "Laptop HP OPP AMD Ryzen 5...                 3\n",
              "Laptop Lenovo IdeaPad 3i Intel...            3\n",
              "Laptop HP OPP AMD Ryzen 7...                 3\n",
              "Laptop Gaming VICTUS...                      3\n",
              "Laptop LENOVO Ideapad 3i Intel...            3\n",
              "Laptop Gamer ACER Nitro Intel Core i7...     3\n",
              "Laptop Lenovo Ideapad 5 AMD...               3\n",
              "Laptop Acer Aspire 3 AMD Ryzen 5...          3\n",
              "Laptop Hp 15-Dy2059La Intel...               2\n",
              "Laptop Advance NV6650 14pulg...              2\n",
              "Laptop ACER Aspire 5 Intel Core i5 11°...    2\n",
              "IdeaPad Duet Chromebook ...                  2\n",
              "Laptop ASUS Intel Core i3 10° Gen...         2\n",
              "Laptop LENOVO Ideapad D330...                2\n",
              "Laptop HP 15 ef2501la AMD...                 2\n",
              "Laptop Hp 250 G9, 15.6\" Hd, Core I7,...      2\n",
              "Laptop Gamer LENOVO Legion 5...              2\n",
              "LAPTOP CHUWI HEROBOOK PRO...                 2\n",
              "Laptop HP EliteBook 840 G3...                2\n",
              "Chromebook LENOVO Ideapad...                 2\n",
              "Laptop Gamer Asus TUF Dash...                2\n",
              "Impresora multifuncional...                  2\n",
              "Portátil ASUS X515 Intel Core i5 10°...      2\n",
              "Laptop Ideapad Gaming Intel Core...          1\n",
              "Laptop Gamer TUF A15 AMD...                  1\n",
              "Laptop Convertible Lenovo Ideapad...         1\n",
              "Name: Productos, dtype: int64"
            ]
          },
          "execution_count": 260,
          "metadata": {},
          "output_type": "execute_result"
        }
      ],
      "source": [
        "data[\"Productos\"].value_counts()"
      ]
    }
  ],
  "metadata": {
    "kernelspec": {
      "display_name": "Python 3",
      "language": "python",
      "name": "python3"
    },
    "language_info": {
      "codemirror_mode": {
        "name": "ipython",
        "version": 3
      },
      "file_extension": ".py",
      "mimetype": "text/x-python",
      "name": "python",
      "nbconvert_exporter": "python",
      "pygments_lexer": "ipython3",
      "version": "3.6.13"
    },
    "colab": {
      "provenance": []
    }
  },
  "nbformat": 4,
  "nbformat_minor": 5
}